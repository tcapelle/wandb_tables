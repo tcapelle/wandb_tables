{
 "cells": [
  {
   "cell_type": "markdown",
   "id": "5fbaa34f-4054-4e3c-9b11-9ec96569d721",
   "metadata": {},
   "source": [
    "# Exploring Joining and comparing tables with images"
   ]
  },
  {
   "cell_type": "code",
   "execution_count": 2,
   "id": "76623695-d220-4a5c-a0c9-b24daeaca46d",
   "metadata": {
    "tags": []
   },
   "outputs": [],
   "source": [
    "import random\n",
    "import wandb"
   ]
  },
  {
   "cell_type": "code",
   "execution_count": 3,
   "id": "fc999b9f-d0c9-41c0-89fb-dd8709598f92",
   "metadata": {
    "tags": []
   },
   "outputs": [],
   "source": [
    "PROJECT_NAME = \"stacking_tables\""
   ]
  },
  {
   "cell_type": "code",
   "execution_count": 4,
   "id": "ac34e122-aafd-4a57-a688-4ee450e4e059",
   "metadata": {
    "tags": []
   },
   "outputs": [],
   "source": [
    "def one_table():\n",
    "    t = wandb.Table(columns=[\"col1\", \"col2\"])\n",
    "    for i in range(10):\n",
    "        t.add_data(i, random.random())\n",
    "    return t"
   ]
  },
  {
   "cell_type": "markdown",
   "id": "a85cf6dc-901c-49f6-a9a7-01cfe3f6895a",
   "metadata": {},
   "source": [
    "one table, no issues on the workspace"
   ]
  },
  {
   "cell_type": "code",
   "execution_count": 5,
   "id": "22651df5-9c1f-4ca4-a758-8417457b4857",
   "metadata": {
    "tags": []
   },
   "outputs": [
    {
     "name": "stderr",
     "output_type": "stream",
     "text": [
      "\u001b[34m\u001b[1mwandb\u001b[0m: Currently logged in as: \u001b[33mcapecape\u001b[0m. Use \u001b[1m`wandb login --relogin`\u001b[0m to force relogin\n"
     ]
    },
    {
     "data": {
      "text/html": [
       "wandb version 0.15.10 is available!  To upgrade, please run:\n",
       " $ pip install wandb --upgrade"
      ],
      "text/plain": [
       "<IPython.core.display.HTML object>"
      ]
     },
     "metadata": {},
     "output_type": "display_data"
    },
    {
     "data": {
      "text/html": [
       "Tracking run with wandb version 0.15.9"
      ],
      "text/plain": [
       "<IPython.core.display.HTML object>"
      ]
     },
     "metadata": {},
     "output_type": "display_data"
    },
    {
     "data": {
      "text/html": [
       "Run data is saved locally in <code>/Users/tcapelle/work/wandb_tables/wandb/run-20230907_184644-el98kh8z</code>"
      ],
      "text/plain": [
       "<IPython.core.display.HTML object>"
      ]
     },
     "metadata": {},
     "output_type": "display_data"
    },
    {
     "data": {
      "text/html": [
       "Syncing run <strong><a href='https://wandb.ai/capecape/stacking_tables/runs/el98kh8z' target=\"_blank\">iconic-gorge-11</a></strong> to <a href='https://wandb.ai/capecape/stacking_tables' target=\"_blank\">Weights & Biases</a> (<a href='https://wandb.me/run' target=\"_blank\">docs</a>)<br/>"
      ],
      "text/plain": [
       "<IPython.core.display.HTML object>"
      ]
     },
     "metadata": {},
     "output_type": "display_data"
    },
    {
     "data": {
      "text/html": [
       " View project at <a href='https://wandb.ai/capecape/stacking_tables' target=\"_blank\">https://wandb.ai/capecape/stacking_tables</a>"
      ],
      "text/plain": [
       "<IPython.core.display.HTML object>"
      ]
     },
     "metadata": {},
     "output_type": "display_data"
    },
    {
     "data": {
      "text/html": [
       " View run at <a href='https://wandb.ai/capecape/stacking_tables/runs/el98kh8z' target=\"_blank\">https://wandb.ai/capecape/stacking_tables/runs/el98kh8z</a>"
      ],
      "text/plain": [
       "<IPython.core.display.HTML object>"
      ]
     },
     "metadata": {},
     "output_type": "display_data"
    },
    {
     "data": {
      "text/html": [
       "Waiting for W&B process to finish... <strong style=\"color:green\">(success).</strong>"
      ],
      "text/plain": [
       "<IPython.core.display.HTML object>"
      ]
     },
     "metadata": {},
     "output_type": "display_data"
    },
    {
     "data": {
      "text/html": [
       " View run <strong style=\"color:#cdcd00\">iconic-gorge-11</strong> at: <a href='https://wandb.ai/capecape/stacking_tables/runs/el98kh8z' target=\"_blank\">https://wandb.ai/capecape/stacking_tables/runs/el98kh8z</a><br/> View job at <a href='https://wandb.ai/capecape/stacking_tables/jobs/QXJ0aWZhY3RDb2xsZWN0aW9uOjk1NzA2MDE3/version_details/v0' target=\"_blank\">https://wandb.ai/capecape/stacking_tables/jobs/QXJ0aWZhY3RDb2xsZWN0aW9uOjk1NzA2MDE3/version_details/v0</a><br/>Synced 5 W&B file(s), 1 media file(s), 5 artifact file(s) and 1 other file(s)"
      ],
      "text/plain": [
       "<IPython.core.display.HTML object>"
      ]
     },
     "metadata": {},
     "output_type": "display_data"
    },
    {
     "data": {
      "text/html": [
       "Find logs at: <code>./wandb/run-20230907_184644-el98kh8z/logs</code>"
      ],
      "text/plain": [
       "<IPython.core.display.HTML object>"
      ]
     },
     "metadata": {},
     "output_type": "display_data"
    }
   ],
   "source": [
    "def run_one_table():\n",
    "    with wandb.init(project=PROJECT_NAME, job_type=\"simple\"):\n",
    "        wandb.log({\"table_simple\":one_table()})\n",
    "        \n",
    "run_one_table()"
   ]
  },
  {
   "cell_type": "markdown",
   "id": "9bf7b5f5-370b-4344-bce2-6a31ba68cc67",
   "metadata": {},
   "source": [
    "if we execute this multiple times, we can then see them concatenated (per row) on the workspace, no problem "
   ]
  },
  {
   "cell_type": "code",
   "execution_count": 6,
   "id": "f5671dc8-742f-4072-a82c-68b286d860cb",
   "metadata": {
    "tags": []
   },
   "outputs": [
    {
     "data": {
      "application/vnd.jupyter.widget-view+json": {
       "model_id": "f386b483a6bb4684af7f51bd6aee5f83",
       "version_major": 2,
       "version_minor": 0
      },
      "text/plain": [
       "VBox(children=(Label(value='Waiting for wandb.init()...\\r'), FloatProgress(value=0.016752175700094084, max=1.0…"
      ]
     },
     "metadata": {},
     "output_type": "display_data"
    },
    {
     "data": {
      "text/html": [
       "wandb version 0.15.10 is available!  To upgrade, please run:\n",
       " $ pip install wandb --upgrade"
      ],
      "text/plain": [
       "<IPython.core.display.HTML object>"
      ]
     },
     "metadata": {},
     "output_type": "display_data"
    },
    {
     "data": {
      "text/html": [
       "Tracking run with wandb version 0.15.9"
      ],
      "text/plain": [
       "<IPython.core.display.HTML object>"
      ]
     },
     "metadata": {},
     "output_type": "display_data"
    },
    {
     "data": {
      "text/html": [
       "Run data is saved locally in <code>/Users/tcapelle/work/wandb_tables/wandb/run-20230907_184700-miii2kmb</code>"
      ],
      "text/plain": [
       "<IPython.core.display.HTML object>"
      ]
     },
     "metadata": {},
     "output_type": "display_data"
    },
    {
     "data": {
      "text/html": [
       "Syncing run <strong><a href='https://wandb.ai/capecape/stacking_tables/runs/miii2kmb' target=\"_blank\">silver-feather-12</a></strong> to <a href='https://wandb.ai/capecape/stacking_tables' target=\"_blank\">Weights & Biases</a> (<a href='https://wandb.me/run' target=\"_blank\">docs</a>)<br/>"
      ],
      "text/plain": [
       "<IPython.core.display.HTML object>"
      ]
     },
     "metadata": {},
     "output_type": "display_data"
    },
    {
     "data": {
      "text/html": [
       " View project at <a href='https://wandb.ai/capecape/stacking_tables' target=\"_blank\">https://wandb.ai/capecape/stacking_tables</a>"
      ],
      "text/plain": [
       "<IPython.core.display.HTML object>"
      ]
     },
     "metadata": {},
     "output_type": "display_data"
    },
    {
     "data": {
      "text/html": [
       " View run at <a href='https://wandb.ai/capecape/stacking_tables/runs/miii2kmb' target=\"_blank\">https://wandb.ai/capecape/stacking_tables/runs/miii2kmb</a>"
      ],
      "text/plain": [
       "<IPython.core.display.HTML object>"
      ]
     },
     "metadata": {},
     "output_type": "display_data"
    },
    {
     "data": {
      "text/html": [
       "Waiting for W&B process to finish... <strong style=\"color:green\">(success).</strong>"
      ],
      "text/plain": [
       "<IPython.core.display.HTML object>"
      ]
     },
     "metadata": {},
     "output_type": "display_data"
    },
    {
     "data": {
      "text/html": [
       " View run <strong style=\"color:#cdcd00\">silver-feather-12</strong> at: <a href='https://wandb.ai/capecape/stacking_tables/runs/miii2kmb' target=\"_blank\">https://wandb.ai/capecape/stacking_tables/runs/miii2kmb</a><br/> View job at <a href='https://wandb.ai/capecape/stacking_tables/jobs/QXJ0aWZhY3RDb2xsZWN0aW9uOjk1NzA2MDE3/version_details/v1' target=\"_blank\">https://wandb.ai/capecape/stacking_tables/jobs/QXJ0aWZhY3RDb2xsZWN0aW9uOjk1NzA2MDE3/version_details/v1</a><br/>Synced 5 W&B file(s), 1 media file(s), 5 artifact file(s) and 1 other file(s)"
      ],
      "text/plain": [
       "<IPython.core.display.HTML object>"
      ]
     },
     "metadata": {},
     "output_type": "display_data"
    },
    {
     "data": {
      "text/html": [
       "Find logs at: <code>./wandb/run-20230907_184700-miii2kmb/logs</code>"
      ],
      "text/plain": [
       "<IPython.core.display.HTML object>"
      ]
     },
     "metadata": {},
     "output_type": "display_data"
    },
    {
     "data": {
      "application/vnd.jupyter.widget-view+json": {
       "model_id": "5c2b10cc65ae414aa3630e4ba8a5f75a",
       "version_major": 2,
       "version_minor": 0
      },
      "text/plain": [
       "VBox(children=(Label(value='Waiting for wandb.init()...\\r'), FloatProgress(value=0.016751338899969898, max=1.0…"
      ]
     },
     "metadata": {},
     "output_type": "display_data"
    },
    {
     "data": {
      "text/html": [
       "wandb version 0.15.10 is available!  To upgrade, please run:\n",
       " $ pip install wandb --upgrade"
      ],
      "text/plain": [
       "<IPython.core.display.HTML object>"
      ]
     },
     "metadata": {},
     "output_type": "display_data"
    },
    {
     "data": {
      "text/html": [
       "Tracking run with wandb version 0.15.9"
      ],
      "text/plain": [
       "<IPython.core.display.HTML object>"
      ]
     },
     "metadata": {},
     "output_type": "display_data"
    },
    {
     "data": {
      "text/html": [
       "Run data is saved locally in <code>/Users/tcapelle/work/wandb_tables/wandb/run-20230907_184718-biw4954l</code>"
      ],
      "text/plain": [
       "<IPython.core.display.HTML object>"
      ]
     },
     "metadata": {},
     "output_type": "display_data"
    },
    {
     "data": {
      "text/html": [
       "Syncing run <strong><a href='https://wandb.ai/capecape/stacking_tables/runs/biw4954l' target=\"_blank\">grateful-dew-13</a></strong> to <a href='https://wandb.ai/capecape/stacking_tables' target=\"_blank\">Weights & Biases</a> (<a href='https://wandb.me/run' target=\"_blank\">docs</a>)<br/>"
      ],
      "text/plain": [
       "<IPython.core.display.HTML object>"
      ]
     },
     "metadata": {},
     "output_type": "display_data"
    },
    {
     "data": {
      "text/html": [
       " View project at <a href='https://wandb.ai/capecape/stacking_tables' target=\"_blank\">https://wandb.ai/capecape/stacking_tables</a>"
      ],
      "text/plain": [
       "<IPython.core.display.HTML object>"
      ]
     },
     "metadata": {},
     "output_type": "display_data"
    },
    {
     "data": {
      "text/html": [
       " View run at <a href='https://wandb.ai/capecape/stacking_tables/runs/biw4954l' target=\"_blank\">https://wandb.ai/capecape/stacking_tables/runs/biw4954l</a>"
      ],
      "text/plain": [
       "<IPython.core.display.HTML object>"
      ]
     },
     "metadata": {},
     "output_type": "display_data"
    },
    {
     "data": {
      "text/html": [
       "Waiting for W&B process to finish... <strong style=\"color:green\">(success).</strong>"
      ],
      "text/plain": [
       "<IPython.core.display.HTML object>"
      ]
     },
     "metadata": {},
     "output_type": "display_data"
    },
    {
     "data": {
      "text/html": [
       " View run <strong style=\"color:#cdcd00\">grateful-dew-13</strong> at: <a href='https://wandb.ai/capecape/stacking_tables/runs/biw4954l' target=\"_blank\">https://wandb.ai/capecape/stacking_tables/runs/biw4954l</a><br/> View job at <a href='https://wandb.ai/capecape/stacking_tables/jobs/QXJ0aWZhY3RDb2xsZWN0aW9uOjk1NzA2MDE3/version_details/v2' target=\"_blank\">https://wandb.ai/capecape/stacking_tables/jobs/QXJ0aWZhY3RDb2xsZWN0aW9uOjk1NzA2MDE3/version_details/v2</a><br/>Synced 5 W&B file(s), 1 media file(s), 5 artifact file(s) and 1 other file(s)"
      ],
      "text/plain": [
       "<IPython.core.display.HTML object>"
      ]
     },
     "metadata": {},
     "output_type": "display_data"
    },
    {
     "data": {
      "text/html": [
       "Find logs at: <code>./wandb/run-20230907_184718-biw4954l/logs</code>"
      ],
      "text/plain": [
       "<IPython.core.display.HTML object>"
      ]
     },
     "metadata": {},
     "output_type": "display_data"
    },
    {
     "data": {
      "application/vnd.jupyter.widget-view+json": {
       "model_id": "579e5c592fa4495e81f70d95f47e9c5b",
       "version_major": 2,
       "version_minor": 0
      },
      "text/plain": [
       "VBox(children=(Label(value='Waiting for wandb.init()...\\r'), FloatProgress(value=0.01673122500020933, max=1.0)…"
      ]
     },
     "metadata": {},
     "output_type": "display_data"
    },
    {
     "data": {
      "text/html": [
       "wandb version 0.15.10 is available!  To upgrade, please run:\n",
       " $ pip install wandb --upgrade"
      ],
      "text/plain": [
       "<IPython.core.display.HTML object>"
      ]
     },
     "metadata": {},
     "output_type": "display_data"
    },
    {
     "data": {
      "text/html": [
       "Tracking run with wandb version 0.15.9"
      ],
      "text/plain": [
       "<IPython.core.display.HTML object>"
      ]
     },
     "metadata": {},
     "output_type": "display_data"
    },
    {
     "data": {
      "text/html": [
       "Run data is saved locally in <code>/Users/tcapelle/work/wandb_tables/wandb/run-20230907_184736-54wzept5</code>"
      ],
      "text/plain": [
       "<IPython.core.display.HTML object>"
      ]
     },
     "metadata": {},
     "output_type": "display_data"
    },
    {
     "data": {
      "text/html": [
       "Syncing run <strong><a href='https://wandb.ai/capecape/stacking_tables/runs/54wzept5' target=\"_blank\">unique-tree-14</a></strong> to <a href='https://wandb.ai/capecape/stacking_tables' target=\"_blank\">Weights & Biases</a> (<a href='https://wandb.me/run' target=\"_blank\">docs</a>)<br/>"
      ],
      "text/plain": [
       "<IPython.core.display.HTML object>"
      ]
     },
     "metadata": {},
     "output_type": "display_data"
    },
    {
     "data": {
      "text/html": [
       " View project at <a href='https://wandb.ai/capecape/stacking_tables' target=\"_blank\">https://wandb.ai/capecape/stacking_tables</a>"
      ],
      "text/plain": [
       "<IPython.core.display.HTML object>"
      ]
     },
     "metadata": {},
     "output_type": "display_data"
    },
    {
     "data": {
      "text/html": [
       " View run at <a href='https://wandb.ai/capecape/stacking_tables/runs/54wzept5' target=\"_blank\">https://wandb.ai/capecape/stacking_tables/runs/54wzept5</a>"
      ],
      "text/plain": [
       "<IPython.core.display.HTML object>"
      ]
     },
     "metadata": {},
     "output_type": "display_data"
    },
    {
     "data": {
      "text/html": [
       "Waiting for W&B process to finish... <strong style=\"color:green\">(success).</strong>"
      ],
      "text/plain": [
       "<IPython.core.display.HTML object>"
      ]
     },
     "metadata": {},
     "output_type": "display_data"
    },
    {
     "data": {
      "text/html": [
       " View run <strong style=\"color:#cdcd00\">unique-tree-14</strong> at: <a href='https://wandb.ai/capecape/stacking_tables/runs/54wzept5' target=\"_blank\">https://wandb.ai/capecape/stacking_tables/runs/54wzept5</a><br/> View job at <a href='https://wandb.ai/capecape/stacking_tables/jobs/QXJ0aWZhY3RDb2xsZWN0aW9uOjk1NzA2MDE3/version_details/v3' target=\"_blank\">https://wandb.ai/capecape/stacking_tables/jobs/QXJ0aWZhY3RDb2xsZWN0aW9uOjk1NzA2MDE3/version_details/v3</a><br/>Synced 5 W&B file(s), 1 media file(s), 5 artifact file(s) and 1 other file(s)"
      ],
      "text/plain": [
       "<IPython.core.display.HTML object>"
      ]
     },
     "metadata": {},
     "output_type": "display_data"
    },
    {
     "data": {
      "text/html": [
       "Find logs at: <code>./wandb/run-20230907_184736-54wzept5/logs</code>"
      ],
      "text/plain": [
       "<IPython.core.display.HTML object>"
      ]
     },
     "metadata": {},
     "output_type": "display_data"
    },
    {
     "data": {
      "application/vnd.jupyter.widget-view+json": {
       "model_id": "7adf73429ccc43a68c42ee35fca9259d",
       "version_major": 2,
       "version_minor": 0
      },
      "text/plain": [
       "VBox(children=(Label(value='Waiting for wandb.init()...\\r'), FloatProgress(value=0.016750879867079977, max=1.0…"
      ]
     },
     "metadata": {},
     "output_type": "display_data"
    },
    {
     "data": {
      "text/html": [
       "wandb version 0.15.10 is available!  To upgrade, please run:\n",
       " $ pip install wandb --upgrade"
      ],
      "text/plain": [
       "<IPython.core.display.HTML object>"
      ]
     },
     "metadata": {},
     "output_type": "display_data"
    },
    {
     "data": {
      "text/html": [
       "Tracking run with wandb version 0.15.9"
      ],
      "text/plain": [
       "<IPython.core.display.HTML object>"
      ]
     },
     "metadata": {},
     "output_type": "display_data"
    },
    {
     "data": {
      "text/html": [
       "Run data is saved locally in <code>/Users/tcapelle/work/wandb_tables/wandb/run-20230907_184754-hen4mldu</code>"
      ],
      "text/plain": [
       "<IPython.core.display.HTML object>"
      ]
     },
     "metadata": {},
     "output_type": "display_data"
    },
    {
     "data": {
      "text/html": [
       "Syncing run <strong><a href='https://wandb.ai/capecape/stacking_tables/runs/hen4mldu' target=\"_blank\">valiant-plant-15</a></strong> to <a href='https://wandb.ai/capecape/stacking_tables' target=\"_blank\">Weights & Biases</a> (<a href='https://wandb.me/run' target=\"_blank\">docs</a>)<br/>"
      ],
      "text/plain": [
       "<IPython.core.display.HTML object>"
      ]
     },
     "metadata": {},
     "output_type": "display_data"
    },
    {
     "data": {
      "text/html": [
       " View project at <a href='https://wandb.ai/capecape/stacking_tables' target=\"_blank\">https://wandb.ai/capecape/stacking_tables</a>"
      ],
      "text/plain": [
       "<IPython.core.display.HTML object>"
      ]
     },
     "metadata": {},
     "output_type": "display_data"
    },
    {
     "data": {
      "text/html": [
       " View run at <a href='https://wandb.ai/capecape/stacking_tables/runs/hen4mldu' target=\"_blank\">https://wandb.ai/capecape/stacking_tables/runs/hen4mldu</a>"
      ],
      "text/plain": [
       "<IPython.core.display.HTML object>"
      ]
     },
     "metadata": {},
     "output_type": "display_data"
    },
    {
     "data": {
      "text/html": [
       "Waiting for W&B process to finish... <strong style=\"color:green\">(success).</strong>"
      ],
      "text/plain": [
       "<IPython.core.display.HTML object>"
      ]
     },
     "metadata": {},
     "output_type": "display_data"
    },
    {
     "data": {
      "text/html": [
       " View run <strong style=\"color:#cdcd00\">valiant-plant-15</strong> at: <a href='https://wandb.ai/capecape/stacking_tables/runs/hen4mldu' target=\"_blank\">https://wandb.ai/capecape/stacking_tables/runs/hen4mldu</a><br/> View job at <a href='https://wandb.ai/capecape/stacking_tables/jobs/QXJ0aWZhY3RDb2xsZWN0aW9uOjk1NzA2MDE3/version_details/v4' target=\"_blank\">https://wandb.ai/capecape/stacking_tables/jobs/QXJ0aWZhY3RDb2xsZWN0aW9uOjk1NzA2MDE3/version_details/v4</a><br/>Synced 5 W&B file(s), 1 media file(s), 5 artifact file(s) and 1 other file(s)"
      ],
      "text/plain": [
       "<IPython.core.display.HTML object>"
      ]
     },
     "metadata": {},
     "output_type": "display_data"
    },
    {
     "data": {
      "text/html": [
       "Find logs at: <code>./wandb/run-20230907_184754-hen4mldu/logs</code>"
      ],
      "text/plain": [
       "<IPython.core.display.HTML object>"
      ]
     },
     "metadata": {},
     "output_type": "display_data"
    }
   ],
   "source": [
    "for _ in range(4):\n",
    "    run_one_table()"
   ]
  },
  {
   "cell_type": "markdown",
   "id": "5b8d8a3a-5866-4ca8-91cc-c73ebe820757",
   "metadata": {},
   "source": [
    "## Multiple logsrun_one_table"
   ]
  },
  {
   "cell_type": "markdown",
   "id": "b80ea488-a906-4c8b-afb4-2d69d0459efe",
   "metadata": {},
   "source": [
    "Ok, now what happens that if within the same run, we log a table with the same name, as one would do during training a model. Maybe logging samples per epoch or every X steps."
   ]
  },
  {
   "cell_type": "code",
   "execution_count": 7,
   "id": "b95f93c5-2eaf-43fc-8d29-6ff79dd877c6",
   "metadata": {
    "tags": []
   },
   "outputs": [
    {
     "data": {
      "application/vnd.jupyter.widget-view+json": {
       "model_id": "8747995cf6fb4dcfa5df7fb6da61cac2",
       "version_major": 2,
       "version_minor": 0
      },
      "text/plain": [
       "VBox(children=(Label(value='Waiting for wandb.init()...\\r'), FloatProgress(value=0.01675124515022617, max=1.0)…"
      ]
     },
     "metadata": {},
     "output_type": "display_data"
    },
    {
     "data": {
      "text/html": [
       "wandb version 0.15.10 is available!  To upgrade, please run:\n",
       " $ pip install wandb --upgrade"
      ],
      "text/plain": [
       "<IPython.core.display.HTML object>"
      ]
     },
     "metadata": {},
     "output_type": "display_data"
    },
    {
     "data": {
      "text/html": [
       "Tracking run with wandb version 0.15.9"
      ],
      "text/plain": [
       "<IPython.core.display.HTML object>"
      ]
     },
     "metadata": {},
     "output_type": "display_data"
    },
    {
     "data": {
      "text/html": [
       "Run data is saved locally in <code>/Users/tcapelle/work/wandb_tables/wandb/run-20230907_184812-s0vowq1k</code>"
      ],
      "text/plain": [
       "<IPython.core.display.HTML object>"
      ]
     },
     "metadata": {},
     "output_type": "display_data"
    },
    {
     "data": {
      "text/html": [
       "Syncing run <strong><a href='https://wandb.ai/capecape/stacking_tables/runs/s0vowq1k' target=\"_blank\">upbeat-snow-16</a></strong> to <a href='https://wandb.ai/capecape/stacking_tables' target=\"_blank\">Weights & Biases</a> (<a href='https://wandb.me/run' target=\"_blank\">docs</a>)<br/>"
      ],
      "text/plain": [
       "<IPython.core.display.HTML object>"
      ]
     },
     "metadata": {},
     "output_type": "display_data"
    },
    {
     "data": {
      "text/html": [
       " View project at <a href='https://wandb.ai/capecape/stacking_tables' target=\"_blank\">https://wandb.ai/capecape/stacking_tables</a>"
      ],
      "text/plain": [
       "<IPython.core.display.HTML object>"
      ]
     },
     "metadata": {},
     "output_type": "display_data"
    },
    {
     "data": {
      "text/html": [
       " View run at <a href='https://wandb.ai/capecape/stacking_tables/runs/s0vowq1k' target=\"_blank\">https://wandb.ai/capecape/stacking_tables/runs/s0vowq1k</a>"
      ],
      "text/plain": [
       "<IPython.core.display.HTML object>"
      ]
     },
     "metadata": {},
     "output_type": "display_data"
    },
    {
     "data": {
      "text/html": [
       "Waiting for W&B process to finish... <strong style=\"color:green\">(success).</strong>"
      ],
      "text/plain": [
       "<IPython.core.display.HTML object>"
      ]
     },
     "metadata": {},
     "output_type": "display_data"
    },
    {
     "data": {
      "text/html": [
       " View run <strong style=\"color:#cdcd00\">upbeat-snow-16</strong> at: <a href='https://wandb.ai/capecape/stacking_tables/runs/s0vowq1k' target=\"_blank\">https://wandb.ai/capecape/stacking_tables/runs/s0vowq1k</a><br/> View job at <a href='https://wandb.ai/capecape/stacking_tables/jobs/QXJ0aWZhY3RDb2xsZWN0aW9uOjk1NzA2MDE3/version_details/v5' target=\"_blank\">https://wandb.ai/capecape/stacking_tables/jobs/QXJ0aWZhY3RDb2xsZWN0aW9uOjk1NzA2MDE3/version_details/v5</a><br/>Synced 5 W&B file(s), 5 media file(s), 9 artifact file(s) and 1 other file(s)"
      ],
      "text/plain": [
       "<IPython.core.display.HTML object>"
      ]
     },
     "metadata": {},
     "output_type": "display_data"
    },
    {
     "data": {
      "text/html": [
       "Find logs at: <code>./wandb/run-20230907_184812-s0vowq1k/logs</code>"
      ],
      "text/plain": [
       "<IPython.core.display.HTML object>"
      ]
     },
     "metadata": {},
     "output_type": "display_data"
    }
   ],
   "source": [
    "epochs = 5\n",
    "\n",
    "with wandb.init(project=PROJECT_NAME, job_type=\"multi\"):\n",
    "    for e in range(epochs):\n",
    "        wandb.log({\"table_multi\":one_table()})"
   ]
  },
  {
   "cell_type": "markdown",
   "id": "14f4393b-1083-4bcf-841f-af154ac18ba1",
   "metadata": {
    "tags": []
   },
   "source": [
    "## with Images\n",
    "\n",
    "I am interested on Images on tables, so let's do that! Why? because when training generative image models, you want to see the samples during training. You can keep the prompt fixed and sample over time and see your model progress! (Remember avocado chair)"
   ]
  },
  {
   "cell_type": "code",
   "execution_count": 10,
   "id": "6a5ba3f7-5a5f-45f8-8d4b-f14ecc1c1763",
   "metadata": {
    "tags": []
   },
   "outputs": [],
   "source": [
    "from pathlib import Path\n",
    "\n",
    "from PIL import Image\n",
    "import numpy as np"
   ]
  },
  {
   "cell_type": "code",
   "execution_count": 11,
   "id": "7b71b56c-cf16-47e0-be2f-bbaf7737c0cd",
   "metadata": {
    "tags": []
   },
   "outputs": [],
   "source": [
    "EPOCHS = 7"
   ]
  },
  {
   "cell_type": "markdown",
   "id": "b69fad84-6014-4ff7-9038-9003e43c8abf",
   "metadata": {},
   "source": [
    "You will need 3 images of Pikachu to run this..."
   ]
  },
  {
   "cell_type": "code",
   "execution_count": 12,
   "id": "39b83e6d-f851-4e1f-82f1-33ae1d3e3cf9",
   "metadata": {
    "tags": []
   },
   "outputs": [
    {
     "data": {
      "text/plain": [
       "[PosixPath('images/pika1.png'),\n",
       " PosixPath('images/pika2.png'),\n",
       " PosixPath('images/pika3.png')]"
      ]
     },
     "execution_count": 12,
     "metadata": {},
     "output_type": "execute_result"
    }
   ],
   "source": [
    "img_folder = Path(\"images/\")\n",
    "pikachu_images = list(img_folder.glob(\"pika*.png\"))\n",
    "pikachu_images"
   ]
  },
  {
   "cell_type": "code",
   "execution_count": 18,
   "id": "d0edabf5-55dc-4082-ac5b-a961ddeac8bf",
   "metadata": {
    "tags": []
   },
   "outputs": [],
   "source": [
    "def _scale_image(np_img, scale=1.0):\n",
    "    scaled_img = scale * np_img\n",
    "    return scaled_img.astype(np.uint8)"
   ]
  },
  {
   "cell_type": "code",
   "execution_count": 19,
   "id": "ee192fb1-e07d-4ad0-b30a-e6cf0968075e",
   "metadata": {
    "tags": []
   },
   "outputs": [],
   "source": [
    "def sample_images(epoch):\n",
    "    \"Simulates model sampling at epoch\"\n",
    "    imgs = []\n",
    "    for img_path in pikachu_images:\n",
    "        pil_img = Image.open(img_path)\n",
    "        np_img = np.array(pil_img)\n",
    "        scaled_image = _scale_image(np_img, scale=epoch/EPOCHS)\n",
    "        imgs.append(scaled_image)\n",
    "    return imgs"
   ]
  },
  {
   "cell_type": "code",
   "execution_count": 20,
   "id": "6d8f1c76-8a67-4b72-988d-5f8a897eea19",
   "metadata": {
    "tags": []
   },
   "outputs": [],
   "source": [
    "def create_table(epoch):\n",
    "    \"Create a wandb Table with the samples at epoch\"\n",
    "    t = wandb.Table(columns=[\"name\", f\"image\"])\n",
    "    \n",
    "    pikachus = sample_images(epoch)\n",
    "    \n",
    "    for i, pika in enumerate(pikachus):\n",
    "        t.add_data(f\"pika_{i}\", wandb.Image(pika))\n",
    "    \n",
    "    return t"
   ]
  },
  {
   "cell_type": "code",
   "execution_count": 21,
   "id": "3c73375a-bafb-4d8a-b4d6-6be6bfd67a35",
   "metadata": {
    "tags": []
   },
   "outputs": [
    {
     "data": {
      "text/html": [
       "wandb version 0.15.10 is available!  To upgrade, please run:\n",
       " $ pip install wandb --upgrade"
      ],
      "text/plain": [
       "<IPython.core.display.HTML object>"
      ]
     },
     "metadata": {},
     "output_type": "display_data"
    },
    {
     "data": {
      "text/html": [
       "Tracking run with wandb version 0.15.9"
      ],
      "text/plain": [
       "<IPython.core.display.HTML object>"
      ]
     },
     "metadata": {},
     "output_type": "display_data"
    },
    {
     "data": {
      "text/html": [
       "Run data is saved locally in <code>/Users/tcapelle/work/wandb_tables/wandb/run-20230907_185000-h7hqaroz</code>"
      ],
      "text/plain": [
       "<IPython.core.display.HTML object>"
      ]
     },
     "metadata": {},
     "output_type": "display_data"
    },
    {
     "data": {
      "text/html": [
       "Syncing run <strong><a href='https://wandb.ai/capecape/stacking_tables/runs/h7hqaroz' target=\"_blank\">fluent-voice-18</a></strong> to <a href='https://wandb.ai/capecape/stacking_tables' target=\"_blank\">Weights & Biases</a> (<a href='https://wandb.me/run' target=\"_blank\">docs</a>)<br/>"
      ],
      "text/plain": [
       "<IPython.core.display.HTML object>"
      ]
     },
     "metadata": {},
     "output_type": "display_data"
    },
    {
     "data": {
      "text/html": [
       " View project at <a href='https://wandb.ai/capecape/stacking_tables' target=\"_blank\">https://wandb.ai/capecape/stacking_tables</a>"
      ],
      "text/plain": [
       "<IPython.core.display.HTML object>"
      ]
     },
     "metadata": {},
     "output_type": "display_data"
    },
    {
     "data": {
      "text/html": [
       " View run at <a href='https://wandb.ai/capecape/stacking_tables/runs/h7hqaroz' target=\"_blank\">https://wandb.ai/capecape/stacking_tables/runs/h7hqaroz</a>"
      ],
      "text/plain": [
       "<IPython.core.display.HTML object>"
      ]
     },
     "metadata": {},
     "output_type": "display_data"
    },
    {
     "data": {
      "text/html": [
       "Waiting for W&B process to finish... <strong style=\"color:green\">(success).</strong>"
      ],
      "text/plain": [
       "<IPython.core.display.HTML object>"
      ]
     },
     "metadata": {},
     "output_type": "display_data"
    },
    {
     "data": {
      "text/html": [
       " View run <strong style=\"color:#cdcd00\">fluent-voice-18</strong> at: <a href='https://wandb.ai/capecape/stacking_tables/runs/h7hqaroz' target=\"_blank\">https://wandb.ai/capecape/stacking_tables/runs/h7hqaroz</a><br/> View job at <a href='https://wandb.ai/capecape/stacking_tables/jobs/QXJ0aWZhY3RDb2xsZWN0aW9uOjk1NzA2MDE3/version_details/v7' target=\"_blank\">https://wandb.ai/capecape/stacking_tables/jobs/QXJ0aWZhY3RDb2xsZWN0aW9uOjk1NzA2MDE3/version_details/v7</a><br/>Synced 5 W&B file(s), 5 media file(s), 22 artifact file(s) and 1 other file(s)"
      ],
      "text/plain": [
       "<IPython.core.display.HTML object>"
      ]
     },
     "metadata": {},
     "output_type": "display_data"
    },
    {
     "data": {
      "text/html": [
       "Find logs at: <code>./wandb/run-20230907_185000-h7hqaroz/logs</code>"
      ],
      "text/plain": [
       "<IPython.core.display.HTML object>"
      ]
     },
     "metadata": {},
     "output_type": "display_data"
    }
   ],
   "source": [
    "with wandb.init(project=PROJECT_NAME, job_type=\"images\", config={\"epochs\":EPOCHS}):\n",
    "    for epoch in range(epochs):\n",
    "        wandb.log({\"table_pikachu\":create_table(epoch)})"
   ]
  },
  {
   "cell_type": "markdown",
   "id": "8654775c-048f-45f1-bf46-309a17bdcadc",
   "metadata": {},
   "source": [
    "## Naming cols"
   ]
  },
  {
   "cell_type": "markdown",
   "id": "298bbb9a-828b-4dd1-b0cb-c3daddec2ca2",
   "metadata": {},
   "source": [
    "Let's put the epoch number on the image column name: `f\"image_{epoch}\"`"
   ]
  },
  {
   "cell_type": "code",
   "execution_count": 24,
   "id": "62362f14-2209-4b75-8680-53134d86d48a",
   "metadata": {
    "tags": []
   },
   "outputs": [],
   "source": [
    "from pathlib import Path\n",
    "\n",
    "from PIL import Image\n",
    "import numpy as np"
   ]
  },
  {
   "cell_type": "code",
   "execution_count": 25,
   "id": "d1af892d-689a-4858-8511-56c7b03acc53",
   "metadata": {
    "tags": []
   },
   "outputs": [],
   "source": [
    "def create_table(epoch):\n",
    "    \"Name the image column with the epoch explicitely\"\n",
    "    t = wandb.Table(columns=[\"name\", f\"image_{epoch}\"])\n",
    "    \n",
    "    pikachus = sample_images(epoch)\n",
    "    \n",
    "    for i, pika in enumerate(pikachus):\n",
    "        t.add_data(f\"pika_{i}\", wandb.Image(pika))\n",
    "    \n",
    "    return t"
   ]
  },
  {
   "cell_type": "code",
   "execution_count": 26,
   "id": "623df179-8046-41e0-9265-e15a045a5665",
   "metadata": {
    "tags": []
   },
   "outputs": [
    {
     "data": {
      "text/html": [
       "wandb version 0.15.10 is available!  To upgrade, please run:\n",
       " $ pip install wandb --upgrade"
      ],
      "text/plain": [
       "<IPython.core.display.HTML object>"
      ]
     },
     "metadata": {},
     "output_type": "display_data"
    },
    {
     "data": {
      "text/html": [
       "Tracking run with wandb version 0.15.9"
      ],
      "text/plain": [
       "<IPython.core.display.HTML object>"
      ]
     },
     "metadata": {},
     "output_type": "display_data"
    },
    {
     "data": {
      "text/html": [
       "Run data is saved locally in <code>/Users/tcapelle/work/wandb_tables/wandb/run-20230907_185130-4zcgq8lt</code>"
      ],
      "text/plain": [
       "<IPython.core.display.HTML object>"
      ]
     },
     "metadata": {},
     "output_type": "display_data"
    },
    {
     "data": {
      "text/html": [
       "Syncing run <strong><a href='https://wandb.ai/capecape/stacking_tables/runs/4zcgq8lt' target=\"_blank\">quiet-vortex-19</a></strong> to <a href='https://wandb.ai/capecape/stacking_tables' target=\"_blank\">Weights & Biases</a> (<a href='https://wandb.me/run' target=\"_blank\">docs</a>)<br/>"
      ],
      "text/plain": [
       "<IPython.core.display.HTML object>"
      ]
     },
     "metadata": {},
     "output_type": "display_data"
    },
    {
     "data": {
      "text/html": [
       " View project at <a href='https://wandb.ai/capecape/stacking_tables' target=\"_blank\">https://wandb.ai/capecape/stacking_tables</a>"
      ],
      "text/plain": [
       "<IPython.core.display.HTML object>"
      ]
     },
     "metadata": {},
     "output_type": "display_data"
    },
    {
     "data": {
      "text/html": [
       " View run at <a href='https://wandb.ai/capecape/stacking_tables/runs/4zcgq8lt' target=\"_blank\">https://wandb.ai/capecape/stacking_tables/runs/4zcgq8lt</a>"
      ],
      "text/plain": [
       "<IPython.core.display.HTML object>"
      ]
     },
     "metadata": {},
     "output_type": "display_data"
    },
    {
     "data": {
      "text/html": [
       "Waiting for W&B process to finish... <strong style=\"color:green\">(success).</strong>"
      ],
      "text/plain": [
       "<IPython.core.display.HTML object>"
      ]
     },
     "metadata": {},
     "output_type": "display_data"
    },
    {
     "data": {
      "text/html": [
       " View run <strong style=\"color:#cdcd00\">quiet-vortex-19</strong> at: <a href='https://wandb.ai/capecape/stacking_tables/runs/4zcgq8lt' target=\"_blank\">https://wandb.ai/capecape/stacking_tables/runs/4zcgq8lt</a><br/> View job at <a href='https://wandb.ai/capecape/stacking_tables/jobs/QXJ0aWZhY3RDb2xsZWN0aW9uOjk1NzA2MDE3/version_details/v8' target=\"_blank\">https://wandb.ai/capecape/stacking_tables/jobs/QXJ0aWZhY3RDb2xsZWN0aW9uOjk1NzA2MDE3/version_details/v8</a><br/>Synced 5 W&B file(s), 7 media file(s), 30 artifact file(s) and 1 other file(s)"
      ],
      "text/plain": [
       "<IPython.core.display.HTML object>"
      ]
     },
     "metadata": {},
     "output_type": "display_data"
    },
    {
     "data": {
      "text/html": [
       "Find logs at: <code>./wandb/run-20230907_185130-4zcgq8lt/logs</code>"
      ],
      "text/plain": [
       "<IPython.core.display.HTML object>"
      ]
     },
     "metadata": {},
     "output_type": "display_data"
    }
   ],
   "source": [
    "with wandb.init(project=PROJECT_NAME, job_type=\"images_col\", config={\"epochs\":EPOCHS}):\n",
    "    for epoch in range(EPOCHS):\n",
    "        wandb.log({\"table_pikachu_cols\":create_table(epoch)})"
   ]
  }
 ],
 "metadata": {
  "kernelspec": {
   "display_name": "Python 3 (ipykernel)",
   "language": "python",
   "name": "python3"
  },
  "language_info": {
   "codemirror_mode": {
    "name": "ipython",
    "version": 3
   },
   "file_extension": ".py",
   "mimetype": "text/x-python",
   "name": "python",
   "nbconvert_exporter": "python",
   "pygments_lexer": "ipython3",
   "version": "3.10.9"
  }
 },
 "nbformat": 4,
 "nbformat_minor": 5
}
